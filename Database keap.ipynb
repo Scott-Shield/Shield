{
 "cells": [
  {
   "cell_type": "code",
   "execution_count": 1,
   "id": "70363683",
   "metadata": {},
   "outputs": [],
   "source": [
    "import urllib.request\n",
    "import requests\n",
    "import pandas as pd\n",
    "import gspread\n",
    "import re"
   ]
  },
  {
   "cell_type": "code",
   "execution_count": 2,
   "id": "4afc681a",
   "metadata": {},
   "outputs": [],
   "source": [
    "def df_to_sheet(dataframe, sheet): # input dataframe and sheet string\n",
    "    gc = gspread.oauth()\n",
    "    sh = gc.open(sheet)\n",
    "    worksheet = sh.get_worksheet(0) # get first worksheet\n",
    "    worksheet.update('A2', [dataframe.columns.values.tolist()] + dataframe.values.tolist()) # add dataframe to sheet\n",
    "    # could take 2 inputs, first location where to paste, and second what to paste"
   ]
  },
  {
   "cell_type": "code",
   "execution_count": 3,
   "id": "462e84f4",
   "metadata": {},
   "outputs": [],
   "source": [
    "def keap_df(all_leads_txt): # input file name as string\n",
    "    with open(all_leads_txt) as file: # remove extra spaces, separate each element based on newline, and add \"endofline\"\n",
    "        lines = file.readlines()\n",
    "        lines = [line.rstrip() + \"endofline\" for line in lines]\n",
    "        \n",
    "    # join each element, separated by a comma, then split them into different elements based on 'endofline'\n",
    "    # then each element will be a single lead. now split each lead into different portions\n",
    "    n_data = [l.split('\\t') for l in ','.join(lines).split('endofline')]\n",
    "    \n",
    "    # remove blank lists\n",
    "    n_data_correct = []\n",
    "    for i in range(len(n_data)):\n",
    "        if len(n_data[i]) > 2:\n",
    "            n_data_correct.append(n_data[i])\n",
    "    n_data = n_data_correct\n",
    "    \n",
    "    # remove ',' element that starts each list but first\n",
    "    for i in range(len(n_data)):\n",
    "        n_data[i].pop(0)\n",
    "    \n",
    "    # separate leads into those that are full and those missing something (like an email)\n",
    "    n_data_full = []\n",
    "    n_data_missing = []\n",
    "    for i in range(len(n_data)):\n",
    "        if len(n_data[i]) >= 7:\n",
    "            n_data_full.append(n_data[i])\n",
    "    else:\n",
    "        n_data_missing.append(n_data[i])\n",
    "        \n",
    "    # create blank lists for each column\n",
    "    opportunity = []\n",
    "    stage = []\n",
    "    date_created = []\n",
    "    last_updated = []\n",
    "    phone = []\n",
    "    contact_name = []\n",
    "    email = []\n",
    "    notes = []\n",
    "    \n",
    "    # add leads to blank lists\n",
    "    for lead in n_data_full:\n",
    "        opportunity.append(lead[0])\n",
    "        stage.append(lead[1])\n",
    "        date_created.append(lead[2])\n",
    "        last_updated.append(lead[3])\n",
    "        phone.append(lead[4])\n",
    "        contact_name.append(lead[5])\n",
    "        email.append(lead[6])\n",
    "        if len(lead) > 7:\n",
    "            notes.append(lead[7])\n",
    "        else:\n",
    "            notes.append('n/a')\n",
    "            \n",
    "    # create dictionary\n",
    "    data_dict = {'Opportunity':opportunity, 'Stage':stage, 'Date created': date_created, 'Last updated':last_updated, 'Phone':phone, 'Contact name':contact_name, 'Email':email, 'Notes':notes}\n",
    "    \n",
    "    # create dataframe\n",
    "    df = pd.DataFrame(data_dict)\n",
    "    \n",
    "    return df, data_dict"
   ]
  },
  {
   "cell_type": "code",
   "execution_count": 4,
   "id": "d01676e5",
   "metadata": {},
   "outputs": [],
   "source": [
    "page_one, page_one_dict = keap_df('1st_page.txt')\n",
    "df_to_sheet(page_one, '1st_page')"
   ]
  },
  {
   "cell_type": "code",
   "execution_count": 5,
   "id": "87d73157",
   "metadata": {},
   "outputs": [],
   "source": [
    "reach, reach_dict = keap_df('reached_us.txt')"
   ]
  },
  {
   "cell_type": "code",
   "execution_count": 6,
   "id": "a2178d7c",
   "metadata": {},
   "outputs": [],
   "source": [
    "def reach_us_dict(dictionary): # input dictionary\n",
    "    index_list = []\n",
    "    date_list = []\n",
    "    for i in range(len(dictionary['Notes'])):\n",
    "        note = dictionary['Notes'][i]\n",
    "        stages = dictionary['Stage'][i] \n",
    "        if (note[:10] == \"reached_us\") and (stages in ['SENT APP', 'Submission', 'Approved']):\n",
    "            index_list.append(i)\n",
    "            date_list.append(note[11:22])\n",
    "    \n",
    "    opportunity = []\n",
    "    stage = []\n",
    "    date_created = []\n",
    "    phone = []\n",
    "    contact_name = []\n",
    "    email = []\n",
    "    notes = []\n",
    "    \n",
    "    for i in index_list:\n",
    "        opportunity.append(dictionary['Opportunity'][i])\n",
    "        stage.append(dictionary['Stage'][i])\n",
    "        date_created.append(dictionary['Date created'][i])\n",
    "        phone.append(dictionary['Phone'][i])\n",
    "        contact_name.append(dictionary['Contact name'][i])\n",
    "        email.append(dictionary['Email'][i])\n",
    "        notes.append(dictionary['Notes'][i])\n",
    "    \n",
    "    reached_us_dict = {'Opportunity':opportunity, 'Stage':stage, 'Date created': date_created, 'Reached us':date_list, 'Phone':phone, 'Contact name':contact_name, 'Email':email, 'Notes':notes}\n",
    "    \n",
    "    return reached_us_dict"
   ]
  },
  {
   "cell_type": "code",
   "execution_count": 7,
   "id": "63f0fb56",
   "metadata": {},
   "outputs": [],
   "source": [
    "to_do_dict = reach_us_dict(reach_dict)\n",
    "to_do_df = pd.DataFrame(to_do_dict)\n",
    "df_to_sheet(to_do_df, 'to_do')"
   ]
  },
  {
   "cell_type": "code",
   "execution_count": 29,
   "id": "6df7e262",
   "metadata": {},
   "outputs": [],
   "source": [
    "match = re.search(r\"'follow_up' (\\d.+)\", 'follow_up 12/27/2021 ')"
   ]
  },
  {
   "cell_type": "code",
   "execution_count": 30,
   "id": "1479b55a",
   "metadata": {},
   "outputs": [
    {
     "ename": "AttributeError",
     "evalue": "'NoneType' object has no attribute 'group'",
     "output_type": "error",
     "traceback": [
      "\u001b[1;31m---------------------------------------------------------------------------\u001b[0m",
      "\u001b[1;31mAttributeError\u001b[0m                            Traceback (most recent call last)",
      "\u001b[1;32mC:\\Users\\SCOTTA~1\\AppData\\Local\\Temp/ipykernel_9516/1475810501.py\u001b[0m in \u001b[0;36m<module>\u001b[1;34m\u001b[0m\n\u001b[1;32m----> 1\u001b[1;33m \u001b[0mmatch\u001b[0m\u001b[1;33m.\u001b[0m\u001b[0mgroup\u001b[0m\u001b[1;33m(\u001b[0m\u001b[1;36m0\u001b[0m\u001b[1;33m)\u001b[0m\u001b[1;33m\u001b[0m\u001b[1;33m\u001b[0m\u001b[0m\n\u001b[0m",
      "\u001b[1;31mAttributeError\u001b[0m: 'NoneType' object has no attribute 'group'"
     ]
    }
   ],
   "source": [
    "match.group(0)"
   ]
  },
  {
   "cell_type": "code",
   "execution_count": null,
   "id": "a7a01f62",
   "metadata": {},
   "outputs": [],
   "source": []
  }
 ],
 "metadata": {
  "kernelspec": {
   "display_name": "Python 3 (ipykernel)",
   "language": "python",
   "name": "python3"
  },
  "language_info": {
   "codemirror_mode": {
    "name": "ipython",
    "version": 3
   },
   "file_extension": ".py",
   "mimetype": "text/x-python",
   "name": "python",
   "nbconvert_exporter": "python",
   "pygments_lexer": "ipython3",
   "version": "3.9.7"
  }
 },
 "nbformat": 4,
 "nbformat_minor": 5
}
